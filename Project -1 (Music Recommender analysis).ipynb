{
 "cells": [
  {
   "cell_type": "code",
   "execution_count": 15,
   "id": "59f5337e",
   "metadata": {},
   "outputs": [
    {
     "name": "stderr",
     "output_type": "stream",
     "text": [
      "C:\\Users\\Faizal Ahmed\\AppData\\Local\\Programs\\Python\\Python310\\lib\\site-packages\\sklearn\\base.py:450: UserWarning: X does not have valid feature names, but DecisionTreeClassifier was fitted with feature names\n",
      "  warnings.warn(\n"
     ]
    },
    {
     "data": {
      "text/plain": [
       "array(['HipHop'], dtype=object)"
      ]
     },
     "execution_count": 15,
     "metadata": {},
     "output_type": "execute_result"
    }
   ],
   "source": [
    "import pandas as pd\n",
    "import numpy as np\n",
    "from sklearn.tree import DecisionTreeClassifier\n",
    "from sklearn.model_selection import train_test_split\n",
    "from sklearn.metrics import accuracy_score\n",
    "import joblib as jb\n",
    "\n",
    "\n",
    "# # music_data = pd.read_csv('music.csv')\n",
    "# # X=music_data.drop(columns=['genre'])\n",
    "# # Y=music_data['genre']\n",
    "# # X_train, X_test,Y_train,Y_test=train_test_split(X, Y, test_size=0.2)\n",
    "\n",
    "# # model = DecisionTreeClassifier()\n",
    "# # model.fit(X_train,Y_train)\n",
    "\n",
    "\n",
    "# # predictions= model.predict(X_test)\n",
    "# # score = accuracy_score(Y_test, predictions)\n",
    "# ## since the training module was success, we now store the actual module in 'joblib'\n",
    "\n",
    "\n",
    "# #Actual model\n",
    "\n",
    "# music_data = pd.read_csv('music.csv')\n",
    "# X=music_data.drop(columns=['genre'])\n",
    "# Y=music_data['genre']\n",
    "# music_data = pd.read_csv('music.csv')\n",
    "# X=music_data.drop(columns=['genre'])\n",
    "# Y=music_data['genre']\n",
    "\n",
    "\n",
    "# model = DecisionTreeClassifier()\n",
    "# model.fit(X,Y)\n",
    "\n",
    "# jb.dump(model, 'music-recommender.joblib') ## this command has been saved to another notebook 'music-recommender.joblib'\n",
    "\n",
    "#we need to load the model which was saved in jb.dump using joblib\n",
    "model = jb.load('music-recommender.joblib')\n",
    "\n",
    "prediction=model.predict([[1,1]])\n",
    "prediction\n",
    "# #now save the above model in joblib, we dont want to make any predictions, hence just saving the model\n"
   ]
  },
  {
   "cell_type": "code",
   "execution_count": 17,
   "id": "5e05460d",
   "metadata": {},
   "outputs": [
    {
     "name": "stdout",
     "output_type": "stream",
     "text": [
      "jw66wlo\n"
     ]
    }
   ],
   "source": [
    "print(\"jw66wlo\")"
   ]
  },
  {
   "cell_type": "code",
   "execution_count": null,
   "id": "4f975605",
   "metadata": {},
   "outputs": [],
   "source": [
    "#sort the data into x and y, where x = data without 'genre' row and y = data is data of genre"
   ]
  }
 ],
 "metadata": {
  "kernelspec": {
   "display_name": "Python 3 (ipykernel)",
   "language": "python",
   "name": "python3"
  },
  "language_info": {
   "codemirror_mode": {
    "name": "ipython",
    "version": 3
   },
   "file_extension": ".py",
   "mimetype": "text/x-python",
   "name": "python",
   "nbconvert_exporter": "python",
   "pygments_lexer": "ipython3",
   "version": "3.10.1"
  }
 },
 "nbformat": 4,
 "nbformat_minor": 5
}
